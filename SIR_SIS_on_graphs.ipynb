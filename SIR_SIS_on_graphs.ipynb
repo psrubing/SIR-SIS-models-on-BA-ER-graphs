{
 "cells": [
  {
   "cell_type": "code",
   "execution_count": null,
   "metadata": {},
   "outputs": [],
   "source": [
    "import networkx as nx\n",
    "import EoN\n",
    "import matplotlib.pyplot as plt"
   ]
  },
  {
   "cell_type": "code",
   "execution_count": null,
   "metadata": {},
   "outputs": [],
   "source": [
    "def simulate_SIR(graph,beta,gamma,rho):\n",
    "    \n",
    "    # Tworzenie symulacji modelu SIR na podstawie procesów Markowa\n",
    "    # tau - wspołczynnik zarażania\n",
    "    # gamma - współczynnik ozdrowienia\n",
    "    # rho - ułemek zarażonych na samym początku\n",
    "    t, S, I, R = EoN.fast_SIR(graph, beta, gamma, rho=rho,tmax=10)\n",
    "    return t, S, I, R"
   ]
  },
  {
   "cell_type": "code",
   "execution_count": null,
   "metadata": {},
   "outputs": [],
   "source": [
    "def simulate_SIS(graph,beta,gamma,rho):\n",
    "    \n",
    "    # Tworzenie symulacji modelu SIR na podstawie procesów Markowa\n",
    "    # tau - wspołczynnik zarażania\n",
    "    # gamma - współczynnik ozdrowienia\n",
    "    # rho - ułemek zarażonych na samym początku\n",
    "    t, S, I = EoN.fast_SIS(graph, beta, gamma, rho=rho,tmax=10)\n",
    "    return t, S, I"
   ]
  },
  {
   "cell_type": "code",
   "execution_count": null,
   "metadata": {},
   "outputs": [],
   "source": [
    "# Funkcja przystosowana do rysowania wykresu przebiegu trzech zmiennych\n",
    "\n",
    "def plotter(x,y,labales,title,filename):\n",
    "    fig, ax = plt.subplots()\n",
    "    ax.plot(x[0], y[0], label = labales[0])\n",
    "    ax.plot(x[1], y[1], label = labales[1])\n",
    "    ax.plot(x[2], y[2], label = labales[2])\n",
    "    ax.set_xlabel(\"Czas\")\n",
    "    ax.set_ylabel(\"Liczebność\")\n",
    "    plt.title(title)\n",
    "    plt.legend(loc=\"best\")\n",
    "    plt.show()\n",
    "    fig.savefig(filename,dpi=400)"
   ]
  },
  {
   "cell_type": "code",
   "execution_count": null,
   "metadata": {},
   "outputs": [],
   "source": [
    "# Parametry symulacji\n",
    "\n",
    "N = 10 ** 4        # wielkość sieci\n",
    "beta = 3.0         # wspołczynnik zarażania\n",
    "gamma = 1.0        # wspołczynnik ozdrowienia\n",
    "rho = 0.005        # ułamek zarażonych na początku"
   ]
  },
  {
   "cell_type": "code",
   "execution_count": null,
   "metadata": {},
   "outputs": [],
   "source": [
    "# tablica z wartościami oczekiwanych połączeń pomiedzy węzłami w sieci poissonowskiej\n",
    "ks = [2,4,6]\n",
    "# tablica z wartościami liczby nowych połączeń dla sieci BA w każdym kroku iteracyjnym\n",
    "ms = [1,3,5]\n",
    "\n",
    "# puste tablice na grafy różniące się parametrami\n",
    "graphs_er = []\n",
    "graphs_ba = []\n",
    "\n",
    "# tworzenie grafu poissonowskiego dla każdej z wartości k\n",
    "for k in ks:\n",
    "    g = nx.fast_gnp_random_graph(N,k/(N-1))\n",
    "    graphs_er.append(g)\n",
    "\n",
    "# tworzenie grafu BA dla każdej z wartości m\n",
    "for m in ms:\n",
    "    g = nx.barabasi_albert_graph(N,m)\n",
    "    graphs_ba.append(g)"
   ]
  },
  {
   "cell_type": "code",
   "execution_count": null,
   "metadata": {},
   "outputs": [],
   "source": [
    "titles_er = ['k=2','k=4','k=6']\n",
    "titles_ba = ['m=1','m=3','m=5']"
   ]
  },
  {
   "cell_type": "code",
   "execution_count": null,
   "metadata": {},
   "outputs": [],
   "source": [
    "# puste tablice na wszystkie zmienne pochodzące ze symulacji na róznych grafach\n",
    "sir_times_er = []\n",
    "sis_times_er = []\n",
    "\n",
    "sir_times_ba = []\n",
    "sis_times_ba = []\n",
    "\n",
    "sir_infecteds_er = []\n",
    "sir_susceptibles_er = []\n",
    "sir_recovereds_er = []\n",
    "\n",
    "sir_infecteds_ba = []\n",
    "sir_susceptibles_ba = []\n",
    "sir_recovereds_ba = []\n",
    "\n",
    "sis_infecteds_er = []\n",
    "sis_susceptibles_er = []\n",
    "\n",
    "sis_infecteds_ba = []\n",
    "sis_susceptibles_ba = []"
   ]
  },
  {
   "cell_type": "code",
   "execution_count": null,
   "metadata": {},
   "outputs": [],
   "source": [
    "# symulacje SIR i SIS dla grafów poissonowskich\n",
    "for graph in graphs_er:\n",
    "    \n",
    "    # SIR\n",
    "    time, susceptible, infected, recovered = simulate_SIR(graph,beta,gamma,rho)\n",
    "    sir_infecteds_er.append(infected)\n",
    "    sir_susceptibles_er.append(susceptible)\n",
    "    sir_recovereds_er.append(recovered)\n",
    "    sir_times_er.append(time)\n",
    "    \n",
    "    # SIS\n",
    "    time, susceptible, infected = simulate_SIS(graph,beta,gamma,rho)\n",
    "    sis_infecteds_er.append(infected)\n",
    "    sis_susceptibles_er.append(susceptible)\n",
    "    sis_times_er.append(time)"
   ]
  },
  {
   "cell_type": "code",
   "execution_count": null,
   "metadata": {},
   "outputs": [],
   "source": [
    "# symulacje SIR i SIS dla grafów BA\n",
    "for graph in graphs_ba:\n",
    "    \n",
    "    # SIR\n",
    "    time, susceptible, infected, recovered = simulate_SIR(graph,beta,gamma,rho)\n",
    "    sir_infecteds_ba.append(infected)\n",
    "    sir_susceptibles_ba.append(susceptible)\n",
    "    sir_recovereds_ba.append(recovered)\n",
    "    sir_times_ba.append(time)\n",
    "    \n",
    "    # SIS\n",
    "    time, susceptible, infected = simulate_SIS(graph,beta,gamma,rho)\n",
    "    sis_infecteds_ba.append(infected)\n",
    "    sis_susceptibles_ba.append(susceptible)\n",
    "    sis_times_ba.append(time)"
   ]
  },
  {
   "cell_type": "code",
   "execution_count": null,
   "metadata": {},
   "outputs": [],
   "source": [
    "# Wykresy dla grafu ER\n",
    "plotter(sir_times_er,sir_infecteds_er,titles_er,\"Dynamika zarażonych w modelu SIR\",\"SIR_infected_er\")\n",
    "plotter(sir_times_er,sir_susceptibles_er,titles_er,\"Dynamika podatnych na zarażenie w modelu SIR\",\"SIR_susceptible_er\")\n",
    "plotter(sir_times_er,sir_recovereds_er,titles_er,\"Dynamika wyzdrowiałych w modelu SIR\",\"SIR_recovered_er\")\n",
    "plotter(sis_times_er,sis_susceptibles_er,titles_er,\"Dynamika podatnych na zarażenie w modelu SIS\",\"SIS_susceptible_er\")\n",
    "plotter(sis_times_er,sis_infecteds_er,titles_er,\"Dynamika zarażonych w modelu SIS\",\"SIS_infected_er\")\n",
    "\n",
    "\n",
    "# Wykresy dla grafu BA\n",
    "plotter(sir_times_ba,sir_infecteds_ba,titles_ba,\"Dynamika zarażonych w modelu SIR\",\"SIR_infected_ba\")\n",
    "plotter(sir_times_ba,sir_susceptibles_ba,titles_ba,\"Dynamika podatnych na zarażenie w modelu SIR\",\"SIR_susceptible_ba\")\n",
    "plotter(sir_times_ba,sir_recovereds_ba,titles_ba,\"Dynamika wyzdrowiałych w modelu SIR\",\"SIR_recovered_ba\")\n",
    "plotter(sis_times_ba,sis_susceptibles_ba,titles_ba,\"Dynamika podatnych na zarażenie w modelu SIS\",\"SIS_susceptible_ba\")\n",
    "plotter(sis_times_ba,sis_infecteds_ba,titles_ba,\"Dynamika zarażonych w modelu SIS\",\"SIS_infected_ba\")"
   ]
  }
 ],
 "metadata": {
  "kernelspec": {
   "display_name": "Python 3",
   "language": "python",
   "name": "python3"
  },
  "language_info": {
   "codemirror_mode": {
    "name": "ipython",
    "version": 3
   },
   "file_extension": ".py",
   "mimetype": "text/x-python",
   "name": "python",
   "nbconvert_exporter": "python",
   "pygments_lexer": "ipython3",
   "version": "3.7.6"
  }
 },
 "nbformat": 4,
 "nbformat_minor": 4
}
